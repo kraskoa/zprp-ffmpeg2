{
 "cells": [
  {
   "cell_type": "code",
   "execution_count": 1,
   "metadata": {},
   "outputs": [],
   "source": [
    "import zprp_ffmpeg2\n",
    "import zprp_ffmpeg2.FilterGraph\n",
    "import ipywidgets as widgets\n",
    "from IPython.display import display"
   ]
  },
  {
   "cell_type": "code",
   "execution_count": 2,
   "metadata": {},
   "outputs": [
    {
     "data": {
      "application/vnd.jupyter.widget-view+json": {
       "model_id": "3f4de3bf90f340c5a7dccac7969e40e8",
       "version_major": 2,
       "version_minor": 0
      },
      "text/plain": [
       "HBox(children=(Checkbox(value=False, description='hflip'),))"
      ]
     },
     "metadata": {},
     "output_type": "display_data"
    },
    {
     "data": {
      "application/vnd.jupyter.widget-view+json": {
       "model_id": "298a815c29cf480b99ad73d20d670dd1",
       "version_major": 2,
       "version_minor": 0
      },
      "text/plain": [
       "HBox(children=(Checkbox(value=False, description='scale'), IntSlider(value=20, description='Width:', max=1920,…"
      ]
     },
     "metadata": {},
     "output_type": "display_data"
    },
    {
     "data": {
      "application/vnd.jupyter.widget-view+json": {
       "model_id": "1d54a76d67f14fa891c9b0d49d060a4f",
       "version_major": 2,
       "version_minor": 0
      },
      "text/plain": [
       "HBox(children=(Checkbox(value=False, description='overlay'),))"
      ]
     },
     "metadata": {},
     "output_type": "display_data"
    },
    {
     "data": {
      "application/vnd.jupyter.widget-view+json": {
       "model_id": "75b6645d757a4404814a2d077b312aa9",
       "version_major": 2,
       "version_minor": 0
      },
      "text/plain": [
       "HBox(children=(Checkbox(value=False, description='box'), IntSlider(value=20, description='x:', max=600), IntSl…"
      ]
     },
     "metadata": {},
     "output_type": "display_data"
    },
    {
     "data": {
      "application/vnd.jupyter.widget-view+json": {
       "model_id": "f4afca4b22dd466db0cf8fbad3c26d4d",
       "version_major": 2,
       "version_minor": 0
      },
      "text/plain": [
       "Button(description='Generate', style=ButtonStyle())"
      ]
     },
     "metadata": {},
     "output_type": "display_data"
    },
    {
     "data": {
      "application/vnd.jupyter.widget-view+json": {
       "model_id": "7285ec4109de459a94e32f1f138b2c81",
       "version_major": 2,
       "version_minor": 0
      },
      "text/plain": [
       "Output()"
      ]
     },
     "metadata": {},
     "output_type": "display_data"
    }
   ],
   "source": [
    "def scale_video(stream, width, height):\n",
    "    return zprp_ffmpeg.scale(stream, w=str(width), h=str(height))\n",
    "\n",
    "def hflip_video(stream):\n",
    "    return zprp_ffmpeg.hflip(stream)\n",
    "\n",
    "def overlay_video(stream):\n",
    "    image = zprp_ffmpeg.input(\"ffmpeg_logo.jpg\")\n",
    "    return zprp_ffmpeg.overlay(stream, image)\n",
    "\n",
    "def draw_box_video(stream, x, y, thickness, color):\n",
    "    return zprp_ffmpeg.drawbox(stream, x, y, 120, 120, thickness=thickness, color=color)\n",
    "\n",
    "width_scale = widgets.IntSlider(value=20, min=2, max=1920, step=2, description='Width:')\n",
    "height_scale = widgets.IntSlider(value=20, min=2, max=1080, step=2, description='Height:')\n",
    "\n",
    "x_box = widgets.IntSlider(value=20, min=0, max=600, step=1, description='x:')\n",
    "y_box = widgets.IntSlider(value=20, min=0, max=200, step=1, description='y:')\n",
    "thickness_box = widgets.IntSlider(value=20, min=1, max=40, step=1, description='Thickness:')\n",
    "color_picker = widgets.ColorPicker(description='Color:', value='black')\n",
    "\n",
    "checkbox1 = widgets.Checkbox(description='hflip')\n",
    "checkbox2 = widgets.Checkbox(description='scale')\n",
    "checkbox3 = widgets.Checkbox(description='overlay')\n",
    "checkbox4 = widgets.Checkbox(description='box')\n",
    "\n",
    "button = widgets.Button(description='Generate')\n",
    "\n",
    "output_area = widgets.Output()\n",
    "\n",
    "def display_video(file_path):\n",
    "    video_widget = widgets.Video.from_file(str(file_path))\n",
    "    video_widget.controls = True\n",
    "    display(video_widget)\n",
    "\n",
    "def show(b):\n",
    "    stream = zprp_ffmpeg.input(str(\"in.mp4\"))\n",
    "    if checkbox2.value:\n",
    "        stream = scale_video(stream, width_scale.value, height_scale.value)\n",
    "    if checkbox1.value:\n",
    "        stream = hflip_video(stream)\n",
    "    if checkbox3.value:\n",
    "        stream = overlay_video(stream)\n",
    "    if checkbox4.value:\n",
    "        stream = draw_box_video(stream, x_box.value, y_box.value, thickness_box.value, color_picker.value)\n",
    "    if any((checkbox1.value,checkbox2.value,checkbox3.value,checkbox4.value)):\n",
    "        stream = zprp_ffmpeg.output(stream, \"output.mp4\")\n",
    "        zprp_ffmpeg.run(stream, extra_options=\" -y\")\n",
    "        with output_area:\n",
    "            output_area.clear_output()\n",
    "            display_video(\"output.mp4\")\n",
    "    else:\n",
    "        with output_area:\n",
    "            output_area.clear_output()\n",
    "            display_video(\"in.mp4\")\n",
    "\n",
    "button.on_click(show)\n",
    "\n",
    "\n",
    "hflip_hbox = widgets.HBox([checkbox1])\n",
    "scale_hbox = widgets.HBox([checkbox2, width_scale, height_scale])\n",
    "overlay_hbox = widgets.HBox([checkbox3])\n",
    "draw_hbox = widgets.HBox([checkbox4, x_box, y_box, thickness_box, color_picker])\n",
    "\n",
    "display(hflip_hbox, scale_hbox, overlay_hbox, draw_hbox, button, output_area)\n"
   ]
  }
 ],
 "metadata": {
  "kernelspec": {
   "display_name": "Python 3",
   "language": "python",
   "name": "python3"
  },
  "language_info": {
   "codemirror_mode": {
    "name": "ipython",
    "version": 3
   },
   "file_extension": ".py",
   "mimetype": "text/x-python",
   "name": "python",
   "nbconvert_exporter": "python",
   "pygments_lexer": "ipython3",
   "version": "3.12.2"
  }
 },
 "nbformat": 4,
 "nbformat_minor": 2
}
